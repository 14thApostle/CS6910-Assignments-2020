{
 "metadata": {
  "language_info": {
   "codemirror_mode": {
    "name": "ipython",
    "version": 3
   },
   "file_extension": ".py",
   "mimetype": "text/x-python",
   "name": "python",
   "nbconvert_exporter": "python",
   "pygments_lexer": "ipython3",
   "version": "3.6.9-final"
  },
  "orig_nbformat": 2,
  "kernelspec": {
   "name": "Python 3.6.9 64-bit",
   "display_name": "Python 3.6.9 64-bit",
   "metadata": {
    "interpreter": {
     "hash": "31f2aee4e71d21fbe5cf8b01ff0e069b9275f58929596ceb00d14d90e3e16cd6"
    }
   }
  }
 },
 "nbformat": 4,
 "nbformat_minor": 2,
 "cells": [
  {
   "cell_type": "code",
   "execution_count": null,
   "metadata": {},
   "outputs": [],
   "source": [
    "import os \n",
    "import numpy as np\n",
    "import time\n",
    "import matplotlib.pyplot as plt"
   ]
  },
  {
   "cell_type": "code",
   "execution_count": null,
   "metadata": {},
   "outputs": [],
   "source": [
    "## Plot train vs val accuracy curves\n",
    "folder_path = \"./reg_results/\"\n",
    "values = [1e-1, 1e-2, 5e-2, 1e-3, 5e-3, 1e-4, 5e-4, 1e-5, 5e-5, 1e-6, 5e-6]\n",
    "for i,val in enumerate(values):\n",
    "    result = np.load(folder_path+\"acc_mat_\"+str(i)+\".npz\")\n",
    "\n",
    "    train_acc_all = result['train']\n",
    "    val_acc_all = result['test']\n",
    "    plt.figure()\n",
    "    plt.plot(np.arange(len(train_acc_all)),train_acc_all)\n",
    "    plt.plot(np.arange(len(train_acc_all)),val_acc_all)\n",
    "    plt.title('model accuracy')\n",
    "    plt.ylabel('accuracy')\n",
    "    plt.xlabel('epoch')\n",
    "    plt.legend(['train', 'validation'], loc='upper left')\n",
    "    plt.yticks(np.arange(0,1.1,0.1))\n",
    "    plt.savefig('train_times_{}.png'.format(i))\n",
    "    plt.show()\n",
    "    break\n"
   ]
  },
  {
   "cell_type": "code",
   "execution_count": null,
   "metadata": {},
   "outputs": [],
   "source": [
    "## Plot train vs val loss curves\n",
    "folder_path = \"./reg_results/\"\n",
    "values = [1e-1, 1e-2, 5e-2, 1e-3, 5e-3, 1e-4, 5e-4, 1e-5, 5e-5, 1e-6, 5e-6]\n",
    "for i,val in enumerate(values):\n",
    "    result = np.load(folder_path+\"loss_mat_\"+str(i)+\".npz\")\n",
    "\n",
    "    train_acc_all = result['train']\n",
    "    val_acc_all = result['test']\n",
    "    plt.figure()\n",
    "    plt.plot(np.arange(len(train_acc_all)),train_acc_all)\n",
    "    plt.plot(np.arange(len(train_acc_all)),val_acc_all)\n",
    "    plt.title('Losses during training')\n",
    "    plt.ylabel('Loss')\n",
    "    plt.xlabel('epoch')\n",
    "    plt.legend(['train', 'validation'], loc='upper left')\n",
    "    plt.savefig('train_times_acc_{}.png'.format(i))\n",
    "    plt.show()\n",
    "    break\n"
   ]
  },
  {
   "cell_type": "code",
   "execution_count": null,
   "metadata": {},
   "outputs": [],
   "source": []
  }
 ]
}